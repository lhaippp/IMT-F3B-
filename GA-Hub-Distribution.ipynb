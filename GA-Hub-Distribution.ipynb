{
 "cells": [
  {
   "cell_type": "code",
   "execution_count": 1,
   "metadata": {},
   "outputs": [],
   "source": [
    "import numpy as np\n",
    "import pandas as pd\n",
    "import networkx as nx"
   ]
  },
  {
   "cell_type": "code",
   "execution_count": 2,
   "metadata": {},
   "outputs": [],
   "source": [
    "#file path\n",
    "file_path = \"Small.xlsx\""
   ]
  },
  {
   "cell_type": "code",
   "execution_count": 3,
   "metadata": {},
   "outputs": [],
   "source": [
    "def read_excel_data(filename, sheet_name):\n",
    "    data = pd.read_excel(filename, sheet_name=sheet_name, header=None)\n",
    "    values = data.values\n",
    "    return values"
   ]
  },
  {
   "cell_type": "code",
   "execution_count": 4,
   "metadata": {},
   "outputs": [],
   "source": [
    "def cal_OD():\n",
    "\tO = []\n",
    "\tD = []\n",
    "\tfor i in range(nodeNum):\n",
    "\t\tO.append(sum(flow[i]))\n",
    "\t\tD.append(sum(flow[:,i]))\n",
    "\treturn [O, D]"
   ]
  },
  {
   "cell_type": "code",
   "execution_count": 5,
   "metadata": {},
   "outputs": [],
   "source": [
    "nodeNum = read_excel_data(file_path, \"NodeNum\")[0][0]\n",
    "flow = read_excel_data(file_path, \"flow\")\n",
    "varCost = read_excel_data(file_path, \"varCost\")\n",
    "fixCost = read_excel_data(file_path, \"fixCost\").flatten()\n",
    "alpha = read_excel_data(file_path, \"alpha\")[0][0]\n",
    "cap = read_excel_data(file_path, \"Cap\").flatten()\n",
    "[O, D] = cal_OD()"
   ]
  },
  {
   "cell_type": "code",
   "execution_count": 18,
   "metadata": {},
   "outputs": [],
   "source": [
    "dna_size = nodeNum-2  # DNA size\n",
    "cross_rate = 0.85\n",
    "mutate_rate = 0.35\n",
    "pop_size = 500\n",
    "N_GENERATIONS = 500"
   ]
  },
  {
   "cell_type": "code",
   "execution_count": 7,
   "metadata": {},
   "outputs": [],
   "source": [
    "#resotre tree connectivity\n",
    "def restore_prufer(prufer_seq):\n",
    "\t# connectivity matrix\n",
    "\tconnect_matrix = np.array([[0 for i in range(nodeNum)] for j in range(nodeNum)])\n",
    "\n",
    "\t#list Z\n",
    "\tZ = []\n",
    "\tY = []\n",
    "\t# Get spokers\n",
    "\tnonHubSet = set([i for i in range(nodeNum)]) - set(prufer_seq)\n",
    "\t#get hubs\n",
    "\thubSet = set(prufer_seq)\n",
    "\t# To restore connectivity\n",
    "\trestore_seq = [i for i in range(nodeNum)]\n",
    "\twhile prufer_seq:\n",
    "\t\tsetPrufer = set(prufer_seq)\n",
    "\t\tsetRestore = set(restore_seq)\n",
    "\t\tsetRest = setRestore - setPrufer\n",
    "\t\t\n",
    "\t\t# min value in restore_seq\n",
    "\t\tminNum = min(setRest)\n",
    "\t\trestore_seq.remove(minNum)\n",
    "\t\t#first element in current prufer_seq\n",
    "\t\tfirst_ele = prufer_seq.pop(0)\n",
    "\n",
    "\t\t# set connect_matrix\n",
    "\t\tconnect_matrix[minNum][first_ele] = 1\n",
    "\t\tconnect_matrix[first_ele][minNum] = 1\n",
    "\n",
    "\tconnect_matrix[restore_seq[0]][restore_seq[1]] = 1\n",
    "\tconnect_matrix[restore_seq[1]][restore_seq[0]] = 1\n",
    "\n",
    "\t# To get Z list, store Z[i, k] value pairs. \n",
    "\tfor i in nonHubSet:\n",
    "\t\tfor k in range(len(connect_matrix[i,:])):\n",
    "\t\t\tif connect_matrix[i, k] == 1:\n",
    "\t\t\t\tZ.append([i,k])\n",
    "\n",
    "\tfor k in hubSet:\n",
    "\t\tfor m in range(len(connect_matrix[k,:])):\n",
    "\t\t\tif (connect_matrix[k,m] == 1) & (m in hubSet):\n",
    "\t\t\t\tY.append([k,m])\n",
    "\t\t\t\tY.append([m,k])\n",
    "\n",
    "\treturn [connect_matrix, Z.copy(), Y.copy()]"
   ]
  },
  {
   "cell_type": "code",
   "execution_count": 8,
   "metadata": {},
   "outputs": [],
   "source": [
    "def intraHubFlow(prufer_seq):\n",
    "\tintraHubMatrix = [[0 for i in range(nodeNum)] for j in range(nodeNum)]\n",
    "\t#use package networkx to obtain paths\n",
    "\ttree = nx.from_prufer_sequence(prufer_seq)\n",
    "\tpaths = dict(nx.all_pairs_shortest_path(tree))\n",
    "\tfor ori in paths:\n",
    "\t\tfor des in paths[ori]:\n",
    "\t\t\te = len(paths[ori][des]) - 1\n",
    "\t\t\ts = 0\n",
    "\t\t\tif ori not in prufer_seq:\n",
    "\t\t\t\ts += 1\n",
    "\t\t\tif des not in prufer_seq:\n",
    "\t\t\t\te -= 1\n",
    "\t\t\tfor i in range(s, e):\n",
    "\t\t\t\tpath = paths[ori][des]\n",
    "\t\t\t\t#print(path, path[s], path[e])\n",
    "\t\t\t\tintraHubMatrix[path[i]][path[i+1]] += flow[ori][des]\n",
    "\treturn intraHubMatrix"
   ]
  },
  {
   "cell_type": "code",
   "execution_count": 9,
   "metadata": {},
   "outputs": [],
   "source": [
    "def get_Fitness(prufer_seq):\n",
    "\tfix_cost = 0\n",
    "\tvar_cost = 0\n",
    "\n",
    "\t#get k matrix\n",
    "\t[connect_matrix, Z, Y] = restore_prufer(prufer_seq[:])\n",
    "\t\n",
    "\t#get intra hub flow matrix to calculate var cost 2\n",
    "\tintraHubMatrix = np.array(intraHubFlow(prufer_seq))\n",
    "\n",
    "\thubs = set(prufer_seq)\n",
    "\n",
    "\t#fix cost\n",
    "\tfor hub in hubs:\n",
    "\t\tfix_cost += fixCost[hub]\n",
    "\t#print(fix_cost)\n",
    "\t#var cost part 1\n",
    "\tfor [i, k] in Z:\n",
    "\t\tvar_cost += (varCost[i][k] * O[i] + varCost[k][i] * D[i])\n",
    "\t#print(var_cost)\n",
    "\t#tmp = var_cost\n",
    "\t#var cost part 2\n",
    "\tcord_x, cord_y = np.nonzero(intraHubMatrix)\n",
    "\tfor i in range(len(cord_y)):\n",
    "\t\tvar_cost += alpha * varCost[cord_x[i]][cord_y[i]] * intraHubMatrix[cord_x[i]][cord_y[i]]\n",
    "\t#print(var_cost - tmp)\n",
    "\treturn fix_cost + var_cost"
   ]
  },
  {
   "cell_type": "code",
   "execution_count": 10,
   "metadata": {},
   "outputs": [],
   "source": [
    "# 根据fitness更新选出新一代基因,我们希望fitness越小越好\n",
    "def select(pop, fitness):\n",
    "    # convert list to ndarray\n",
    "    fitness = np.asarray(fitness)\n",
    "    pop = np.asarray(pop)\n",
    "    # 当cost越小的时候，我们越倾向于保留这个基因序列\n",
    "    fitness1 = np.exp(2e8/fitness)\n",
    "    #idx = np.random.choice(np.arange(pop_size), size=pop_size, replace=True, p=fitness1 / fitness1.sum())\n",
    "    idx = np.random.choice(np.arange(pop_size), size=pop_size, replace=True, p=fitness1 / fitness1.sum())\n",
    "    return pop[idx]"
   ]
  },
  {
   "cell_type": "code",
   "execution_count": 11,
   "metadata": {},
   "outputs": [],
   "source": [
    "def crossover(parent, pop):\n",
    "    if np.random.rand() < cross_rate:\n",
    "        i_ = np.random.randint(0, pop_size, size=1)  # select another individual from pop\n",
    "        # 对于第一个模型，dna_size = 6\n",
    "        cross_points = np.random.randint(0, 2, dna_size).astype(np.bool)  # choose crossover points\n",
    "        parent[cross_points] = pop[i_, cross_points]  # mating and produce one child\n",
    "    return parent"
   ]
  },
  {
   "cell_type": "code",
   "execution_count": 12,
   "metadata": {},
   "outputs": [],
   "source": [
    "def mutate(child):\n",
    "    # 对于第一个模型 DNA_size = 6\n",
    "    for point in range(dna_size):\n",
    "        if np.random.rand() < mutate_rate:\n",
    "            swap_point = np.random.randint(0, dna_size)\n",
    "            swapA, swapB = child[point], child[swap_point]\n",
    "            child[point], child[swap_point] = swapB, swapA\n",
    "    return child"
   ]
  },
  {
   "cell_type": "code",
   "execution_count": 31,
   "metadata": {
    "collapsed": true
   },
   "outputs": [
    {
     "ename": "KeyboardInterrupt",
     "evalue": "",
     "output_type": "error",
     "traceback": [
      "\u001b[0;31m---------------------------------------------------------------------------\u001b[0m",
      "\u001b[0;31mKeyboardInterrupt\u001b[0m                         Traceback (most recent call last)",
      "\u001b[0;32m<ipython-input-31-9e2e6ad0d728>\u001b[0m in \u001b[0;36m<module>\u001b[0;34m()\u001b[0m\n\u001b[1;32m     25\u001b[0m         \u001b[0;32mfor\u001b[0m \u001b[0mi\u001b[0m \u001b[0;32min\u001b[0m \u001b[0mpop\u001b[0m\u001b[0;34m:\u001b[0m\u001b[0;34m\u001b[0m\u001b[0;34m\u001b[0m\u001b[0m\n\u001b[1;32m     26\u001b[0m             \u001b[0mbuffer\u001b[0m \u001b[0;34m=\u001b[0m \u001b[0mi\u001b[0m\u001b[0;34m.\u001b[0m\u001b[0mtolist\u001b[0m\u001b[0;34m(\u001b[0m\u001b[0;34m)\u001b[0m\u001b[0;34m\u001b[0m\u001b[0;34m\u001b[0m\u001b[0m\n\u001b[0;32m---> 27\u001b[0;31m             \u001b[0mfitness\u001b[0m\u001b[0;34m.\u001b[0m\u001b[0mappend\u001b[0m\u001b[0;34m(\u001b[0m\u001b[0mget_Fitness\u001b[0m\u001b[0;34m(\u001b[0m\u001b[0mbuffer\u001b[0m\u001b[0;34m)\u001b[0m\u001b[0;34m)\u001b[0m\u001b[0;34m\u001b[0m\u001b[0;34m\u001b[0m\u001b[0m\n\u001b[0m\u001b[1;32m     28\u001b[0m             \u001b[0;31m# selection返回一个(500 X 6)ndarray\u001b[0m\u001b[0;34m\u001b[0m\u001b[0;34m\u001b[0m\u001b[0;34m\u001b[0m\u001b[0m\n\u001b[1;32m     29\u001b[0m         \u001b[0mpop\u001b[0m \u001b[0;34m=\u001b[0m \u001b[0mselect\u001b[0m\u001b[0;34m(\u001b[0m\u001b[0mpop\u001b[0m\u001b[0;34m,\u001b[0m \u001b[0mfitness\u001b[0m\u001b[0;34m)\u001b[0m\u001b[0;34m\u001b[0m\u001b[0;34m\u001b[0m\u001b[0m\n",
      "\u001b[0;32m<ipython-input-11-5af8847cab10>\u001b[0m in \u001b[0;36mget_Fitness\u001b[0;34m(prufer_seq)\u001b[0m\n\u001b[1;32m      4\u001b[0m \u001b[0;34m\u001b[0m\u001b[0m\n\u001b[1;32m      5\u001b[0m         \u001b[0;31m#get k matrix\u001b[0m\u001b[0;34m\u001b[0m\u001b[0;34m\u001b[0m\u001b[0;34m\u001b[0m\u001b[0m\n\u001b[0;32m----> 6\u001b[0;31m         \u001b[0;34m[\u001b[0m\u001b[0mconnect_matrix\u001b[0m\u001b[0;34m,\u001b[0m \u001b[0mZ\u001b[0m\u001b[0;34m,\u001b[0m \u001b[0mY\u001b[0m\u001b[0;34m]\u001b[0m \u001b[0;34m=\u001b[0m \u001b[0mrestore_prufer\u001b[0m\u001b[0;34m(\u001b[0m\u001b[0mprufer_seq\u001b[0m\u001b[0;34m[\u001b[0m\u001b[0;34m:\u001b[0m\u001b[0;34m]\u001b[0m\u001b[0;34m)\u001b[0m\u001b[0;34m\u001b[0m\u001b[0;34m\u001b[0m\u001b[0m\n\u001b[0m\u001b[1;32m      7\u001b[0m \u001b[0;34m\u001b[0m\u001b[0m\n\u001b[1;32m      8\u001b[0m         \u001b[0;31m#get intra hub flow matrix to calculate var cost 2\u001b[0m\u001b[0;34m\u001b[0m\u001b[0;34m\u001b[0m\u001b[0;34m\u001b[0m\u001b[0m\n",
      "\u001b[0;32m<ipython-input-9-bab2e7f2b6eb>\u001b[0m in \u001b[0;36mrestore_prufer\u001b[0;34m(prufer_seq)\u001b[0m\n\u001b[1;32m     39\u001b[0m         \u001b[0;32mfor\u001b[0m \u001b[0mk\u001b[0m \u001b[0;32min\u001b[0m \u001b[0mhubSet\u001b[0m\u001b[0;34m:\u001b[0m\u001b[0;34m\u001b[0m\u001b[0;34m\u001b[0m\u001b[0m\n\u001b[1;32m     40\u001b[0m                 \u001b[0;32mfor\u001b[0m \u001b[0mm\u001b[0m \u001b[0;32min\u001b[0m \u001b[0mrange\u001b[0m\u001b[0;34m(\u001b[0m\u001b[0mlen\u001b[0m\u001b[0;34m(\u001b[0m\u001b[0mconnect_matrix\u001b[0m\u001b[0;34m[\u001b[0m\u001b[0mk\u001b[0m\u001b[0;34m,\u001b[0m\u001b[0;34m:\u001b[0m\u001b[0;34m]\u001b[0m\u001b[0;34m)\u001b[0m\u001b[0;34m)\u001b[0m\u001b[0;34m:\u001b[0m\u001b[0;34m\u001b[0m\u001b[0;34m\u001b[0m\u001b[0m\n\u001b[0;32m---> 41\u001b[0;31m                         \u001b[0;32mif\u001b[0m \u001b[0;34m(\u001b[0m\u001b[0mconnect_matrix\u001b[0m\u001b[0;34m[\u001b[0m\u001b[0mk\u001b[0m\u001b[0;34m,\u001b[0m\u001b[0mm\u001b[0m\u001b[0;34m]\u001b[0m \u001b[0;34m==\u001b[0m \u001b[0;36m1\u001b[0m\u001b[0;34m)\u001b[0m \u001b[0;34m&\u001b[0m \u001b[0;34m(\u001b[0m\u001b[0mm\u001b[0m \u001b[0;32min\u001b[0m \u001b[0mhubSet\u001b[0m\u001b[0;34m)\u001b[0m\u001b[0;34m:\u001b[0m\u001b[0;34m\u001b[0m\u001b[0;34m\u001b[0m\u001b[0m\n\u001b[0m\u001b[1;32m     42\u001b[0m                                 \u001b[0mY\u001b[0m\u001b[0;34m.\u001b[0m\u001b[0mappend\u001b[0m\u001b[0;34m(\u001b[0m\u001b[0;34m[\u001b[0m\u001b[0mk\u001b[0m\u001b[0;34m,\u001b[0m\u001b[0mm\u001b[0m\u001b[0;34m]\u001b[0m\u001b[0;34m)\u001b[0m\u001b[0;34m\u001b[0m\u001b[0;34m\u001b[0m\u001b[0m\n\u001b[1;32m     43\u001b[0m                                 \u001b[0mY\u001b[0m\u001b[0;34m.\u001b[0m\u001b[0mappend\u001b[0m\u001b[0;34m(\u001b[0m\u001b[0;34m[\u001b[0m\u001b[0mm\u001b[0m\u001b[0;34m,\u001b[0m\u001b[0mk\u001b[0m\u001b[0;34m]\u001b[0m\u001b[0;34m)\u001b[0m\u001b[0;34m\u001b[0m\u001b[0;34m\u001b[0m\u001b[0m\n",
      "\u001b[0;31mKeyboardInterrupt\u001b[0m: "
     ]
    }
   ],
   "source": [
    "# 开始进化,我们采用第二种策略\n",
    "for i in range(N_GENERATIONS):\n",
    "    # 进行第一次初始化基因时候\n",
    "    if(i == 0):\n",
    "        fitness = []\n",
    "        # 初始化第一代基因序列\n",
    "        prufer_seq = [np.random.choice(np.arange(8),6,replace=True) for _ in range(pop_size)]\n",
    "        # 计算所有的fitness\n",
    "        for i in prufer_seq:\n",
    "            buffer = i.tolist()\n",
    "            fitness.append(get_Fitness(buffer))\n",
    "            # selection返回一个(500 X 6)ndarray\n",
    "        pop = select(prufer_seq, fitness)\n",
    "        pop_copy = pop.copy() \n",
    "        for parent in pop:\n",
    "            # crossover\n",
    "            child = crossover(parent, pop_copy) \n",
    "            # mutation\n",
    "            child = mutate(child)\n",
    "            # 孩子变为大人\n",
    "            parent[:] = child\n",
    "            \n",
    "    else:\n",
    "        fitness = []\n",
    "        for i in pop:\n",
    "            buffer = i.tolist()\n",
    "            fitness.append(get_Fitness(buffer))\n",
    "            # selection返回一个(500 X 6)ndarray\n",
    "        pop = select(pop, fitness)\n",
    "        # 备个份\n",
    "        pop_copy = pop.copy() \n",
    "        for parent in pop:\n",
    "            # crossover\n",
    "            child = crossover(parent, pop_copy) \n",
    "            # mutation\n",
    "            child = mutate(child)\n",
    "            # 孩子变为大人\n",
    "            parent[:] = child\n",
    "\n",
    "# 当N_GENERATIONS次之后\n",
    "fitness = []\n",
    "for i in pop:\n",
    "    buffer = i.tolist()\n",
    "    fitness.append(get_Fitness(buffer))\n",
    "# 找到此时fitness最小的点\n",
    "print('minimum:', min(fitness))\n",
    "index = fitness.index(min(fitness))\n",
    "print('the distribution is:',pop[index])\n"
   ]
  },
  {
   "cell_type": "code",
   "execution_count": 13,
   "metadata": {},
   "outputs": [],
   "source": [
    "def selcet_MGA(pop, fitness):\n",
    "    \n",
    "    return pop"
   ]
  },
  {
   "cell_type": "code",
   "execution_count": 14,
   "metadata": {},
   "outputs": [],
   "source": [
    "def crossover_MGA(loser_winner):      # crossover for loser\n",
    "        cross_idx = np.empty((dna_size,)).astype(np.bool)\n",
    "        for i in range(dna_size):\n",
    "            cross_idx[i] = True if np.random.rand() < cross_rate else False  # crossover index\n",
    "        loser_winner[0, cross_idx] = loser_winner[1, cross_idx]  # assign winners genes to loser\n",
    "        return loser_winner"
   ]
  },
  {
   "cell_type": "code",
   "execution_count": 15,
   "metadata": {},
   "outputs": [],
   "source": [
    "def mutate_MGA(loser_winner):         # mutation for loser\n",
    "        mutation_idx = np.empty((dna_size,)).astype(np.bool)\n",
    "        for i in range(dna_size):\n",
    "            mutation_idx[i] = True if np.random.rand() < mutate_rate else False  # mutation index\n",
    "        # flip values in mutation points\n",
    "        loser_winner[0, mutation_idx] = ~loser_winner[0, mutation_idx].astype(np.bool)\n",
    "        return loser_winner"
   ]
  },
  {
   "cell_type": "code",
   "execution_count": 52,
   "metadata": {},
   "outputs": [],
   "source": [
    "def genetic_MGA(prufer_seq,n):\n",
    "    start_time = datetime.datetime.now()\n",
    "    # Microbial Genetic Algorithm\n",
    "    # n = 100\n",
    "    fitness = []\n",
    "    # prufer_seq = [np.random.choice(np.arange(nodeNum),dna_size,replace=True) for _ in range(pop_size)]\n",
    "    pop = np.asarray(prufer_seq)\n",
    "\n",
    "    for generation in range(N_GENERATIONS):\n",
    "        for _ in range(n):\n",
    "            # 随机从整体中取出两个个体\n",
    "            sub_pop_idx = np.random.choice(np.arange(0, pop_size), size=2, replace=False)\n",
    "            sub_pop = pop[sub_pop_idx]\n",
    "            for i in sub_pop:\n",
    "                buffer = i.tolist()\n",
    "                fitness.append(get_Fitness(buffer))\n",
    "            # 比较fitness中两个元素的大小，并排序，记录各自的序列\n",
    "            fitness = np.asarray(fitness)\n",
    "            fitness1 = np.exp(2e8/fitness)\n",
    "            loser_winner_idx = np.argsort(fitness1)\n",
    "            loser_winner = sub_pop[loser_winner_idx]\n",
    "            loser_winner = crossover_MGA(loser_winner)\n",
    "            loser_winner = mutate_MGA(loser_winner)\n",
    "            pop[sub_pop_idx] = loser_winner\n",
    "            fitness = []\n",
    "\n",
    "    # 当N_GENERATIONS次之后\n",
    "    fitness = []\n",
    "    for i in pop:\n",
    "        buffer = i.tolist()\n",
    "        fitness.append(get_Fitness(buffer))\n",
    "    # 找到此时fitness最小的点\n",
    "    print('minimum:', min(fitness))\n",
    "    index = fitness.index(min(fitness))\n",
    "    # print('the distribution is:',pop[index])\n",
    "\n",
    "    end_time = datetime.datetime.now()\n",
    "    interval = (end_time-start_time).seconds\n",
    "    # print ('Seconds:\\t', interval)\n",
    "    return (min(fitness))"
   ]
  },
  {
   "cell_type": "code",
   "execution_count": 57,
   "metadata": {},
   "outputs": [],
   "source": [
    "cross_rate = 0.85\n",
    "mutate_rate = 0.1\n",
    "pop_size = 10000\n",
    "N_GENERATIONS = 500\n",
    "n = 35\n",
    "import datetime"
   ]
  },
  {
   "cell_type": "code",
   "execution_count": null,
   "metadata": {},
   "outputs": [],
   "source": [
    "global_Max = 0\n",
    "loops = 0\n",
    "for i in range(100):\n",
    "    loops += 1\n",
    "    prufer_seq = [np.random.choice(np.arange(nodeNum),dna_size,replace=True) for _ in range(pop_size)]\n",
    "    fitness = genetic_MGA(prufer_seq,n)\n",
    "    if(fitness == 6482028.75):\n",
    "        global_Max += 1\n",
    "rate = global_Max/loops\n",
    "print(\"convergence index is:\",rate)"
   ]
  },
  {
   "cell_type": "code",
   "execution_count": 49,
   "metadata": {},
   "outputs": [
    {
     "data": {
      "text/plain": [
       "array([0, 1, 2, 3, 4, 5, 6, 7])"
      ]
     },
     "execution_count": 49,
     "metadata": {},
     "output_type": "execute_result"
    }
   ],
   "source": [
    "np.arange(nodeNum)\n",
    "[np.random.choice(np.arange(nodeNum),dna_size,replace=True) for _ in range(pop_size)]"
   ]
  },
  {
   "cell_type": "code",
   "execution_count": 88,
   "metadata": {},
   "outputs": [
    {
     "name": "stdout",
     "output_type": "stream",
     "text": [
      "全局最优解 6482028，75\n"
     ]
    }
   ],
   "source": [
    "print('全局最优解 6482028，75')"
   ]
  }
 ],
 "metadata": {
  "kernelspec": {
   "display_name": "Python 3",
   "language": "python",
   "name": "python3"
  },
  "language_info": {
   "codemirror_mode": {
    "name": "ipython",
    "version": 3
   },
   "file_extension": ".py",
   "mimetype": "text/x-python",
   "name": "python",
   "nbconvert_exporter": "python",
   "pygments_lexer": "ipython3",
   "version": "3.6.7"
  }
 },
 "nbformat": 4,
 "nbformat_minor": 2
}
